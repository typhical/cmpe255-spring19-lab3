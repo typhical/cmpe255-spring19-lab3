{
 "cells": [
  {
   "cell_type": "code",
   "execution_count": 22,
   "metadata": {},
   "outputs": [
    {
     "name": "stdout",
     "output_type": "stream",
     "text": [
      "neg\n",
      "\"Nasty budget due and my iphone is being sent to Apple today. \"\n",
      "neg\n",
      "\"way sunburned, if i ever get skin cancer i will credit pool volleyball \"\n",
      "neg\n",
      "\"Best \"\n",
      "neg\n",
      "\"OMG my headache killing me \"\n",
      "neg\n",
      "\"Too many people at the starbucks drive thru!!!!!!!!!!! Ahhhhhh! I guess coffee from the grungy old office coffee pot it is \"\n",
      "neg\n",
      "\"ugh ran to mcdonalds.. so hungry. no time to eat \"\n",
      "pos\n",
      "\"taylor swift..... where are you. i have been looking on ticket master everyday for your concerts.. but your like enver comign to toronto! \"\n",
      "pos\n",
      "\"@Lovely_London Pretty good. How about you? \"\n",
      "neg\n",
      "\"Man I so want mcdonalds breakfast.. \"\n",
      "neg\n",
      "\"Fox and Hound for the Cavs game....RISE UP!!!! \"\n",
      "Accuracy=0.800498753117207\n"
     ]
    }
   ],
   "source": [
    "import random\n",
    "\n",
    "def load_data():\n",
    "    data = []\n",
    "    data_labels = []\n",
    "    with open(\"./pos_tweets.txt\", encoding=\"utf8\") as f:\n",
    "        for i in f: \n",
    "            data.append(i) \n",
    "            data_labels.append('pos')\n",
    "\n",
    "    with open(\"./neg_tweets.txt\", encoding=\"utf8\") as f:\n",
    "        for i in f: \n",
    "            data.append(i)\n",
    "            data_labels.append('neg')\n",
    "\n",
    "    return data, data_labels\n",
    "\n",
    "def transform_to_features(data):\n",
    "    from sklearn.feature_extraction.text import CountVectorizer\n",
    "    vectorizer = CountVectorizer(\n",
    "        analyzer = 'word',\n",
    "        lowercase = False,\n",
    "    )\n",
    "    features = vectorizer.fit_transform(\n",
    "        data\n",
    "    )\n",
    "    features_nd = features.toarray()\n",
    "    return features_nd\n",
    "\n",
    "def train_then_build_model(data_labels, features_nd, data):\n",
    "    from sklearn.cross_validation import train_test_split\n",
    "    X_train, X_test, y_train, y_test  = train_test_split(\n",
    "        features_nd, \n",
    "        data_labels,\n",
    "        train_size=0.80, \n",
    "        random_state=1234)\n",
    "\n",
    "    from sklearn.linear_model import LogisticRegression\n",
    "    log_model = LogisticRegression()\n",
    "\n",
    "    log_model = log_model.fit(X=X_train, y=y_train)\n",
    "    y_pred = log_model.predict(X_test)\n",
    "        \n",
    "    k = random.randint(0,len(X_test)-10)\n",
    "    for i in range(k,k+10):\n",
    "        ind = features_nd.tolist().index(X_test[i].tolist())\n",
    "        print(y_pred[i])\n",
    "        print(data[ind].strip())\n",
    "    \n",
    "    from sklearn.metrics import accuracy_score\n",
    "    print(\"Accuracy={}\".format(accuracy_score(y_test, y_pred)))\n",
    "\n",
    "def process():\n",
    "    data, data_labels = load_data()\n",
    "    features_nd = transform_to_features(data)\n",
    "    train_then_build_model(data_labels, features_nd, data)\n",
    "\n",
    "\n",
    "process()"
   ]
  },
  {
   "cell_type": "code",
   "execution_count": null,
   "metadata": {
    "collapsed": true
   },
   "outputs": [],
   "source": []
  }
 ],
 "metadata": {
  "kernelspec": {
   "display_name": "Python 3",
   "language": "python",
   "name": "python3"
  },
  "language_info": {
   "codemirror_mode": {
    "name": "ipython",
    "version": 3
   },
   "file_extension": ".py",
   "mimetype": "text/x-python",
   "name": "python",
   "nbconvert_exporter": "python",
   "pygments_lexer": "ipython3",
   "version": "3.6.2"
  }
 },
 "nbformat": 4,
 "nbformat_minor": 2
}
